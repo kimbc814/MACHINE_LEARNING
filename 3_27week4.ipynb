{
  "nbformat": 4,
  "nbformat_minor": 0,
  "metadata": {
    "colab": {
      "private_outputs": true,
      "provenance": [],
      "authorship_tag": "ABX9TyPWFQu6fn8wBjStnkypuyeh",
      "include_colab_link": true
    },
    "kernelspec": {
      "name": "python3",
      "display_name": "Python 3"
    },
    "language_info": {
      "name": "python"
    }
  },
  "cells": [
    {
      "cell_type": "markdown",
      "metadata": {
        "id": "view-in-github",
        "colab_type": "text"
      },
      "source": [
        "<a href=\"https://colab.research.google.com/github/kimbc814/MACHINE_LEARNING/blob/main/3_27week4.ipynb\" target=\"_parent\"><img src=\"https://colab.research.google.com/assets/colab-badge.svg\" alt=\"Open In Colab\"/></a>"
      ]
    },
    {
      "cell_type": "code",
      "execution_count": null,
      "metadata": {
        "id": "P2mkRsfRQv70"
      },
      "outputs": [],
      "source": [
        "import pandas as pd \n",
        "import numpy as np\n",
        "import matplotlib. pyplot as plt"
      ]
    },
    {
      "cell_type": "code",
      "source": [
        "file = \"/content/chipotle.tsv\"\n",
        "chipo = pd.read_csv(file,sep = \"\\t\")\n",
        "print(chipo.shape)\n",
        "print(\"----------------------------------------------------------\")\n",
        "print(chipo.info())\n",
        "print(\"----------------------------------------------------------\")\n",
        "chipo.head(10)"
      ],
      "metadata": {
        "id": "MExxUrpzRq3C"
      },
      "execution_count": null,
      "outputs": []
    },
    {
      "cell_type": "code",
      "source": [
        "print(chipo.describe())"
      ],
      "metadata": {
        "id": "JXR-_J29RyG8"
      },
      "execution_count": null,
      "outputs": []
    },
    {
      "cell_type": "code",
      "source": [
        "(chipo[[\"item_name\",\"choice_description\",\"item_price\"]].describe())"
      ],
      "metadata": {
        "id": "WYYdSf8MSC5z"
      },
      "execution_count": null,
      "outputs": []
    },
    {
      "cell_type": "code",
      "source": [
        "item_count = chipo['item_name'].value_counts()\n",
        "item_count\n",
        "plt.hist(item_count)\n",
        "plt.xlabel(\"ordered_item_count\")\n",
        "plt.title(\"Distribution of all ordered item count\")"
      ],
      "metadata": {
        "id": "QZUuNOuISFkx"
      },
      "execution_count": null,
      "outputs": []
    },
    {
      "cell_type": "code",
      "source": [
        "item_name_10 = chipo['item_name'].value_counts()[:10]\n",
        "item_name_10"
      ],
      "metadata": {
        "id": "Zur4my3pSIdm"
      },
      "execution_count": null,
      "outputs": []
    },
    {
      "cell_type": "code",
      "source": [
        "item_name_1 = chipo['item_name'].value_counts()[:1]\n",
        "item_name_1"
      ],
      "metadata": {
        "id": "7NJcw-fuSKIl"
      },
      "execution_count": null,
      "outputs": []
    },
    {
      "cell_type": "code",
      "source": [
        "item_name = chipo['item_name'].value_counts()\n",
        "plt.hist(item_name)\n",
        "plt.xlabel(\"ordered_item_name\")\n",
        "plt.ylabel(\"ordered_item_count\")"
      ],
      "metadata": {
        "id": "9yqzH3XvSL18"
      },
      "execution_count": null,
      "outputs": []
    },
    {
      "cell_type": "code",
      "source": [
        "item_quantity = chipo.groupby('item_name')['quantity'].count()\n",
        "item_quantity"
      ],
      "metadata": {
        "id": "4yLXzm6BSNh-"
      },
      "execution_count": null,
      "outputs": []
    },
    {
      "cell_type": "code",
      "source": [
        "item_quantity.index"
      ],
      "metadata": {
        "id": "QQDzTWyNSOI2"
      },
      "execution_count": null,
      "outputs": []
    },
    {
      "cell_type": "code",
      "source": [
        "item_quantity.values"
      ],
      "metadata": {
        "id": "QRGJmnWPSQZU"
      },
      "execution_count": null,
      "outputs": []
    },
    {
      "cell_type": "code",
      "source": [
        "item_quantity_index = item_quantity.index.tolist()\n",
        "len(item_quantity_index)"
      ],
      "metadata": {
        "id": "Tg_kj-MYSSgN"
      },
      "execution_count": null,
      "outputs": []
    },
    {
      "cell_type": "code",
      "source": [
        "x =np.arange(len(item_quantity_index))\n",
        "x"
      ],
      "metadata": {
        "id": "K_jweHP6SUJh"
      },
      "execution_count": null,
      "outputs": []
    },
    {
      "cell_type": "code",
      "source": [
        "order_cnt= item_quantity.values.tolist()\n",
        "print(order_cnt)"
      ],
      "metadata": {
        "id": "xXxrJAvOSY6-"
      },
      "execution_count": null,
      "outputs": []
    },
    {
      "cell_type": "code",
      "source": [
        "plt.bar(x,order_cnt)\n",
        "plt.xlabel(\"item_name\")\n",
        "plt.ylabel(\"order_count\")\n",
        "plt.title(\"distribution\")\n",
        "plt.show()"
      ],
      "metadata": {
        "id": "KFuQy0U5SdxN"
      },
      "execution_count": null,
      "outputs": []
    },
    {
      "cell_type": "code",
      "source": [
        "chipo.head()"
      ],
      "metadata": {
        "id": "EQKf5iCNSgwa"
      },
      "execution_count": null,
      "outputs": []
    },
    {
      "cell_type": "code",
      "source": [
        "x= chipo['item_price']\n",
        "chipo['item_price'] = chipo['item_price'].apply(lambda x : float(x[1:]))"
      ],
      "metadata": {
        "id": "1AIl6tPeShj3"
      },
      "execution_count": null,
      "outputs": []
    },
    {
      "cell_type": "code",
      "source": [
        "item_price = chipo.groupby('order_id')['item_price'].sum()"
      ],
      "metadata": {
        "id": "-jMrvBYYSmNF"
      },
      "execution_count": null,
      "outputs": []
    },
    {
      "cell_type": "code",
      "source": [
        "item_price_index=item_price.index.tolist()"
      ],
      "metadata": {
        "id": "G98qOwFIStPR"
      },
      "execution_count": null,
      "outputs": []
    },
    {
      "cell_type": "code",
      "source": [
        "x = np.arange(len(item_price_index))\n",
        "x"
      ],
      "metadata": {
        "id": "FaMRriZISuFK"
      },
      "execution_count": null,
      "outputs": []
    },
    {
      "cell_type": "code",
      "source": [
        "item_price.values"
      ],
      "metadata": {
        "id": "SngqSRCLSwwB"
      },
      "execution_count": null,
      "outputs": []
    },
    {
      "cell_type": "code",
      "source": [
        "item_price_values = item_price.values.tolist()"
      ],
      "metadata": {
        "id": "RqhdLw6RSxUI"
      },
      "execution_count": null,
      "outputs": []
    },
    {
      "cell_type": "code",
      "source": [
        "plt.bar(x,item_price_values)\n",
        "plt. xlabel('order_id')\n",
        "plt. ylabel('item_price')\n",
        "plt.ylim([0,125])\n",
        "plt.title('distribution of item price')\n",
        "plt.show()"
      ],
      "metadata": {
        "id": "VzfWYucLSzGU"
      },
      "execution_count": null,
      "outputs": []
    },
    {
      "cell_type": "code",
      "source": [
        "plt.hist(item_price,bins =30)\n",
        "plt.xlim([0,130])\n",
        "plt.xlabel('item_price')\n",
        "plt.ylabel('price_count')\n",
        "plt.show()"
      ],
      "metadata": {
        "id": "2E5flfEWS1ly"
      },
      "execution_count": null,
      "outputs": []
    }
  ]
}