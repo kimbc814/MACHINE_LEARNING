{
  "nbformat": 4,
  "nbformat_minor": 0,
  "metadata": {
    "colab": {
      "private_outputs": true,
      "provenance": [],
      "authorship_tag": "ABX9TyM3ZlFF6wBDIfe8c3S1OD99",
      "include_colab_link": true
    },
    "kernelspec": {
      "name": "python3",
      "display_name": "Python 3"
    },
    "language_info": {
      "name": "python"
    }
  },
  "cells": [
    {
      "cell_type": "markdown",
      "metadata": {
        "id": "view-in-github",
        "colab_type": "text"
      },
      "source": [
        "<a href=\"https://colab.research.google.com/github/kimbc814/MACHINE_LEARNING/blob/main/6%EC%A3%BC%EC%B0%A8_%EA%B3%BC%EC%A0%9C.ipynb\" target=\"_parent\"><img src=\"https://colab.research.google.com/assets/colab-badge.svg\" alt=\"Open In Colab\"/></a>"
      ]
    },
    {
      "cell_type": "code",
      "execution_count": null,
      "metadata": {
        "id": "2TmLcGQ0-Ii-"
      },
      "outputs": [],
      "source": [
        "import tensorflow as tf\n",
        "import numpy as np\n",
        "import matplotlib.pyplot as plt"
      ]
    },
    {
      "cell_type": "code",
      "source": [
        "g = tf.random.Generator.from_seed(2020)\n",
        "x = g.normal(shape = (10,))\n",
        "noise = np.random.normal(0,1,size = (10,))\n",
        "noise1 = np.random.normal(-abs(noise),abs(noise),size = (10,))\n",
        "y = 3*x - 2 + noise\n",
        "y_1=3*x - 2 + noise1"
      ],
      "metadata": {
        "id": "aMUoFGgU-vTr"
      },
      "execution_count": null,
      "outputs": []
    },
    {
      "cell_type": "code",
      "source": [
        "# loss함수 정의\n",
        "def cal_mse(x,y,a,b):\n",
        "    y_pred = a*x + b\n",
        "    squared_error = (y_pred - y) **2\n",
        "    mean_squared_error = tf.reduce_mean(squared_error)\n",
        "\n",
        "    return mean_squared_error"
      ],
      "metadata": {
        "id": "-iKrazxG_RLP"
      },
      "execution_count": null,
      "outputs": []
    },
    {
      "cell_type": "code",
      "source": [
        "a = tf.Variable(0.0)\n",
        "b = tf.Variable(0.0)\n",
        "\n",
        "EPOCHS = 5\n",
        "\n",
        "for epoch in range(1, EPOCHS+1):\n",
        "    with tf.GradientTape() as tape:\n",
        "        mse = cal_mse(x, y, a, b)\n",
        "    if mse < 0.00001:\n",
        "        break\n",
        "    \n",
        "    grade = tape.gradient(mse, {'a':a, 'b':b})\n",
        "    d_a, d_b = grade['a'], grade['b']\n",
        "    a.assign_sub(d_a * 0.1)## a = a - d_a*0.05(학습률)\n",
        "    b.assign_sub(d_b * 0.1)## b = b - d_b*0.05(학습률)\n",
        "    print(\"EPOCH %d - MSE : %.4f - a: %.2f - b : %.2f\"%(epoch, mse, a, b))"
      ],
      "metadata": {
        "id": "cCApm0E3_by2"
      },
      "execution_count": null,
      "outputs": []
    },
    {
      "cell_type": "code",
      "source": [
        "y_pred = 1.15* x- 0.27\n",
        "plt.scatter(x,y)#점찍기\n",
        "plt.plot(x,y_pred,color = 'r')#섯긋기기\n",
        "plt.show()"
      ],
      "metadata": {
        "id": "XilBV7JaAw33"
      },
      "execution_count": null,
      "outputs": []
    },
    {
      "cell_type": "code",
      "source": [
        "a = tf.Variable(0.0)\n",
        "b = tf.Variable(0.0)\n",
        "\n",
        "EPOCHS = 50\n",
        "\n",
        "for epoch in range(1, EPOCHS+1):\n",
        "    with tf.GradientTape() as tape:\n",
        "        mse = cal_mse(x, y, a, b)\n",
        "    if mse < 0.00001:\n",
        "        break\n",
        "    \n",
        "    grade = tape.gradient(mse, {'a':a, 'b':b})\n",
        "    d_a, d_b = grade['a'], grade['b']\n",
        "    a.assign_sub(d_a * 0.1)## a = a - d_a*0.05(학습률)\n",
        "    b.assign_sub(d_b * 0.1)## b = b - d_b*0.05(학습률)\n",
        "\n",
        "    if epoch % 10 == 0:\n",
        "      print(\"EPOCH %d - MSE : %.4f - a: %.2f - b : %.2f\"%(epoch, mse, a, b))"
      ],
      "metadata": {
        "id": "5A_5AtBDANx8"
      },
      "execution_count": null,
      "outputs": []
    },
    {
      "cell_type": "code",
      "source": [
        "y_pred = 2.82* x- 1.82\n",
        "plt.scatter(x,y)#점찍기\n",
        "plt.plot(x,y_pred,color = 'r')#섯긋기기\n",
        "plt.show()"
      ],
      "metadata": {
        "id": "Teh_Ni9aAtXl"
      },
      "execution_count": null,
      "outputs": []
    },
    {
      "cell_type": "code",
      "source": [
        "a = tf.Variable(0.0)\n",
        "b = tf.Variable(0.0)\n",
        "\n",
        "EPOCHS = 500\n",
        "\n",
        "for epoch in range(1, EPOCHS+1):\n",
        "    with tf.GradientTape() as tape:\n",
        "        mse = cal_mse(x, y, a, b)\n",
        "    if mse < 0.00001:\n",
        "        break\n",
        "    \n",
        "    grade = tape.gradient(mse, {'a':a, 'b':b})\n",
        "    d_a, d_b = grade['a'], grade['b']\n",
        "    a.assign_sub(d_a * 0.1)## a = a - d_a*0.05(학습률)\n",
        "    b.assign_sub(d_b * 0.1)## b = b - d_b*0.05(학습률)\n",
        "\n",
        "    if epoch % 50 == 0:\n",
        "      print(\"EPOCH %d - MSE : %.4f - a: %.2f - b : %.2f\"%(epoch, mse, a, b))"
      ],
      "metadata": {
        "id": "6Tgmf32wAUmW"
      },
      "execution_count": null,
      "outputs": []
    },
    {
      "cell_type": "code",
      "source": [
        "y_pred = 2.89* x- 1.89\n",
        "plt.scatter(x,y)#점찍기\n",
        "plt.plot(x,y_pred,color = 'r')#섯긋기기\n",
        "plt.show()"
      ],
      "metadata": {
        "id": "R0e4a5yNBB0c"
      },
      "execution_count": null,
      "outputs": []
    },
    {
      "cell_type": "code",
      "source": [
        "a = tf.Variable(0.0)\n",
        "b = tf.Variable(0.0)\n",
        "\n",
        "EPOCHS = 50\n",
        "\n",
        "for epoch in range(1, EPOCHS+1):\n",
        "    with tf.GradientTape() as tape:\n",
        "        mse = cal_mse(x, y, a, b)\n",
        "    if mse < 0.1:\n",
        "        break\n",
        "    \n",
        "    grade = tape.gradient(mse, {'a':a, 'b':b})\n",
        "    d_a, d_b = grade['a'], grade['b']\n",
        "    a.assign_sub(d_a * 0.1)## a = a - d_a*0.05(학습률)\n",
        "    b.assign_sub(d_b * 0.1)## b = b - d_b*0.05(학습률)\n",
        "\n",
        "    if epoch % 10 == 0:\n",
        "      print(\"EPOCH %d - MSE : %.4f - a: %.2f - b : %.2f\"%(epoch, mse, a, b))"
      ],
      "metadata": {
        "id": "w58f3RQHBWcm"
      },
      "execution_count": null,
      "outputs": []
    },
    {
      "cell_type": "code",
      "source": [
        "a = tf.Variable(0.0)\n",
        "b = tf.Variable(0.0)\n",
        "\n",
        "EPOCHS = 50\n",
        "\n",
        "for epoch in range(1, EPOCHS+1):\n",
        "    with tf.GradientTape() as tape:\n",
        "        mse = cal_mse(x, y, a, b)\n",
        "    if mse < 0.01:\n",
        "        break\n",
        "    \n",
        "    grade = tape.gradient(mse, {'a':a, 'b':b})\n",
        "    d_a, d_b = grade['a'], grade['b']\n",
        "    a.assign_sub(d_a * 0.1)## a = a - d_a*0.05(학습률)\n",
        "    b.assign_sub(d_b * 0.1)## b = b - d_b*0.05(학습률)\n",
        "\n",
        "    if epoch % 10 == 0:\n",
        "      print(\"EPOCH %d - MSE : %.4f - a: %.2f - b : %.2f\"%(epoch, mse, a, b))"
      ],
      "metadata": {
        "id": "CJ61a-UEBdtG"
      },
      "execution_count": null,
      "outputs": []
    },
    {
      "cell_type": "code",
      "source": [
        "a = tf.Variable(0.0)\n",
        "b = tf.Variable(0.0)\n",
        "\n",
        "EPOCHS = 50\n",
        "\n",
        "for epoch in range(1, EPOCHS+1):\n",
        "    with tf.GradientTape() as tape:\n",
        "        mse = cal_mse(x, y, a, b)\n",
        "    if mse < 0.001:\n",
        "        break\n",
        "    \n",
        "    grade = tape.gradient(mse, {'a':a, 'b':b})\n",
        "    d_a, d_b = grade['a'], grade['b']\n",
        "    a.assign_sub(d_a * 0.1)## a = a - d_a*0.05(학습률)\n",
        "    b.assign_sub(d_b * 0.1)## b = b - d_b*0.05(학습률)\n",
        "\n",
        "    if epoch % 10 == 0:\n",
        "      print(\"EPOCH %d - MSE : %.4f - a: %.2f - b : %.2f\"%(epoch, mse, a, b))"
      ],
      "metadata": {
        "id": "uNZH2YzpBfkP"
      },
      "execution_count": null,
      "outputs": []
    },
    {
      "cell_type": "code",
      "source": [
        "a = tf.Variable(0.0)\n",
        "b = tf.Variable(0.0)\n",
        "\n",
        "EPOCHS = 500\n",
        "pre_mse=0.0\n",
        "\n",
        "for epoch in range(1, EPOCHS+1):\n",
        "    with tf.GradientTape() as tape:\n",
        "        mse = cal_mse(x, y_1, a, b)\n",
        "    if abs(mse-pre_mse) < 0.0000001:\n",
        "        break\n",
        "    pre_mse=mse\n",
        "    grade = tape.gradient(mse, {'a':a, 'b':b})\n",
        "    d_a, d_b = grade['a'], grade['b']\n",
        "    a.assign_sub(d_a * 0.1)## a = a - d_a*0.05(학습률)\n",
        "    b.assign_sub(d_b * 0.1)## b = b - d_b*0.05(학습률)\n",
        "\n",
        "    if epoch % 10 == 0:\n",
        "      print(\"EPOCH %d - MSE : %.4f - a: %.2f - b : %.2f\"%(epoch, mse, a, b))"
      ],
      "metadata": {
        "id": "G70HgzZNBndO"
      },
      "execution_count": null,
      "outputs": []
    },
    {
      "cell_type": "code",
      "source": [
        "y_pred = 3.10* x- 2.75\n",
        "plt.scatter(x,y_1)#점찍기\n",
        "plt.plot(x,y_pred,color = 'r')#섯긋기기\n",
        "plt.show()"
      ],
      "metadata": {
        "id": "VuMzzX7DCwvb"
      },
      "execution_count": null,
      "outputs": []
    }
  ]
}