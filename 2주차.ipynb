{
  "nbformat": 4,
  "nbformat_minor": 0,
  "metadata": {
    "colab": {
      "private_outputs": true,
      "provenance": [],
      "collapsed_sections": [
        "wGD8N6Yktef4"
      ],
      "authorship_tag": "ABX9TyNy1PufNlok+VV8bWh/zZ2W",
      "include_colab_link": true
    },
    "kernelspec": {
      "name": "python3",
      "display_name": "Python 3"
    },
    "language_info": {
      "name": "python"
    },
    "accelerator": "GPU",
    "gpuClass": "standard"
  },
  "cells": [
    {
      "cell_type": "markdown",
      "metadata": {
        "id": "view-in-github",
        "colab_type": "text"
      },
      "source": [
        "<a href=\"https://colab.research.google.com/github/kimbc814/MACHINE_LEARNING/blob/main/2%EC%A3%BC%EC%B0%A8.ipynb\" target=\"_parent\"><img src=\"https://colab.research.google.com/assets/colab-badge.svg\" alt=\"Open In Colab\"/></a>"
      ]
    },
    {
      "cell_type": "markdown",
      "source": [
        "1. Data_tpye\n",
        "\n",
        "a= 1\n",
        "b=10.1\n",
        "type(a)\n",
        "\n",
        " [] 인덱싱, 슬라이싱 배열 원소 쓸 때 사용. \n",
        " {} 딕셔너리 만들 때 사용.\n",
        " () 함수 , 튜플 에서 사용.\n",
        "\n",
        "a=float(a) 형 변환\n",
        "\n",
        "2. 입력과 출력\n",
        "\n",
        "  input() \n",
        "\n",
        "  print()\n",
        "  print(\"{} 와 {} 의 합 {}\".format(a,b,c))\n",
        "\n",
        "  print(\"%d 와 %f 의 합 %s\"%(a,b,c))\n",
        "\n",
        "3. round()\n",
        "\n",
        "  변수 = round(변수,표현할 자릿수)\n",
        "\n",
        "4. 인덱싱 슬라이싱\n",
        "\n",
        "  str1 = \"hello__!! Python\"\n",
        "  \n",
        "  변수 = len(str1) # 변수 길이 or 데이터 갯수.\n",
        "  \n",
        "  str1[0] -> 'h' #  str1 배열에서 0번 주소의 값 리턴.\n",
        "  \n",
        "  str1[1:] ->'ello__!! Python' # 1번 주소부터 실행.\n",
        "  \n",
        "  str1[:-1] ->'hello__!! Pytho' # 마지막에서 -1한 만큼만 실행.\n",
        "  \n",
        "  str1[3:6] -> 'lo_' # 3번 주소 <= x < 6번 주소 까지 실행.\n",
        "\n",
        "5. list[]\n",
        "  \n",
        "  list1[1,2,3,4,5] # 집합.\n",
        "\n",
        "6. 튜플\n",
        "  \n",
        "  list1(1,2,3,4,5) # 변수값 변경 불가능 고정 상수.\n",
        "\n",
        "7. 딕셔너리\n",
        "  \n",
        "  dict1={\"이름\":\"홍길동\",\"나이\":정수형 값,} #  {\"키 이름름 : 데이터 값\"}\n",
        "  \n",
        "  dict1[\"이름\"] -> '홍길동' # 키가 없을 때 오류 발생.\n",
        "  \n",
        "  dict1.get('이름') ->'홍길동' # 키가 없을 때 NONE 리턴.\n",
        "  \n",
        "  dict1.keys() -> dict_keys(['이름', '나이']) # 키 리스트 출력.\n",
        "  \n",
        "  dict1.items() -> dict_items([('이름', '홍길동'), ('나이', 12)]) # 항목 종류 , 데이터 출력\n",
        "\n",
        "8. if문\n",
        "\n",
        "  if 조건 :\n",
        "    #들여쓰기 후 명령문.\n",
        "  elif 조건 :\n",
        "    #들여쓰기 후 명령문.\n",
        "  else :\n",
        "    #들여쓰기 후 명령문.\n",
        "\n",
        "9. \n",
        "\n",
        "띠 나타내기, 윤년 계산.\n"
      ],
      "metadata": {
        "id": "_Y7ldEbdWiDI"
      }
    },
    {
      "cell_type": "code",
      "source": [],
      "metadata": {
        "id": "Hcwih94DDFL3"
      },
      "execution_count": null,
      "outputs": []
    },
    {
      "cell_type": "code",
      "source": [
        "#띠 계산\n",
        "ddi_dict={4:\"자\",5:\"축\",6:\"인\",7:\"묘\",8:\"진\",9:\"사\",10:\"오\",11:\"미\",0:\"신\",1:\"유\",2:\"술\",3:\"해\",}\n",
        "year_input=int(input())%12\n",
        "print(\" {} 띠 .\".format(ddi_dict[year_input]))"
      ],
      "metadata": {
        "id": "do4dsMij-Xsg"
      },
      "execution_count": null,
      "outputs": []
    },
    {
      "cell_type": "code",
      "source": [
        "#윤년계산\n",
        "year_input1=int(input())\n",
        "if ((year_input1%4 == 0 and year_input1%100 != 0 )or year_input1%400 == 0) :\n",
        "  print (\"{} 년은 윤년.\".format(year_input1))\n",
        "else :\n",
        "  print (\"{} 년은 평년.\".format(year_input1))"
      ],
      "metadata": {
        "id": "eSfi1nL5KF1u"
      },
      "execution_count": null,
      "outputs": []
    },
    {
      "cell_type": "code",
      "source": [
        "#홀 짝 계산\n",
        "num1 =int(input())\n",
        "if num1%2 == 0 :\n",
        "  print(\"짝수 {}\".format(num1))\n",
        "else:\n",
        "  print(\"홀수 {}\".format(num1))\n"
      ],
      "metadata": {
        "id": "bg6h-MztmcxE"
      },
      "execution_count": null,
      "outputs": []
    },
    {
      "cell_type": "code",
      "source": [
        "#점수 등급.\n",
        "num2 =int(input())\n",
        "if num2 > 90 :\n",
        "  print(\"등급 A 점수 :{}\".format(num2))\n",
        "elif num2 > 80 :\n",
        "  print(\"등급 B 점수 : {}\".format(num2))\n",
        "elif num2 > 70 :\n",
        "  print(\"등급 C 점수 : {}\".format(num2))\n",
        "elif num2 > 60 :\n",
        "  print(\"등급 D 점수 : {}\".format(num2))\n",
        "else:\n",
        "  print(\"등급 F 점수 : {}\".format(num2))\n"
      ],
      "metadata": {
        "id": "NAS_q6ihnIJf"
      },
      "execution_count": null,
      "outputs": []
    },
    {
      "cell_type": "code",
      "source": [
        "#id, pw 시스템\n",
        "print(\" 등록할 id : \")\n",
        "reg_id= input()\n",
        "print(\" p.w : \")\n",
        "reg_pw=input()\n",
        "id_dict={\"admin\":\"Abcd!#12\"}\n",
        "id_dict[reg_id]=reg_pw\n",
        "#id_dict.items()\n",
        "print(\" 로그인 : \")\n",
        "rogin_id=input()\n",
        "check_id= rogin_id in id_dict\n",
        "if check_id == False:\n",
        "  print(\"등록된 id가 없습니다. \")\n",
        "else:\n",
        "  print(\" p.w : \")\n",
        "  rogin_pw=input()\n",
        "  if id_dict[rogin_id] == rogin_pw :\n",
        "    print(\"확인 되었습니다.\")\n",
        "  else :\n",
        "    print(\" p.w가 틀렸습니다.\")"
      ],
      "metadata": {
        "id": "1K-bCJHHoVhZ"
      },
      "execution_count": null,
      "outputs": []
    },
    {
      "cell_type": "markdown",
      "source": [
        "# 새 섹션"
      ],
      "metadata": {
        "id": "wGD8N6Yktef4"
      }
    },
    {
      "cell_type": "code",
      "source": [
        "a =4 \n",
        "if a<3:\n",
        "  print(\"TRUE\")\n",
        "elif a<5:\n",
        "  print(\"3~5\")\n",
        "else:\n",
        "  print(\"FALSE\")\n"
      ],
      "metadata": {
        "id": "0TNMmrN4k6wd"
      },
      "execution_count": null,
      "outputs": []
    },
    {
      "cell_type": "code",
      "source": [
        "a = 11/3\n",
        "print(\"{}\".format(round(a,4)))\n",
        "print(\"{}\".format(a))\n",
        "print(\"%.4f\"%(a))"
      ],
      "metadata": {
        "id": "QMGDR_r0jWul"
      },
      "execution_count": null,
      "outputs": []
    },
    {
      "cell_type": "code",
      "source": [
        " dict1={\"이름\":\"홍길동\",\"나이\":12}"
      ],
      "metadata": {
        "id": "r4iaBIMwdqUu"
      },
      "execution_count": null,
      "outputs": []
    },
    {
      "cell_type": "code",
      "source": [
        "dict1[\"이름\"]"
      ],
      "metadata": {
        "id": "HcCwMdrhdtdv"
      },
      "execution_count": null,
      "outputs": []
    },
    {
      "cell_type": "code",
      "source": [
        "dict1.keys()"
      ],
      "metadata": {
        "id": "wptAYRlFhzUn"
      },
      "execution_count": null,
      "outputs": []
    },
    {
      "cell_type": "code",
      "source": [
        "dict1.items()"
      ],
      "metadata": {
        "id": "irzhZdWyeJJ1"
      },
      "execution_count": null,
      "outputs": []
    },
    {
      "cell_type": "code",
      "source": [],
      "metadata": {
        "id": "YxG7-Ttrd5z-"
      },
      "execution_count": null,
      "outputs": []
    },
    {
      "cell_type": "code",
      "source": [
        "a= input()"
      ],
      "metadata": {
        "id": "pRZxYStOXUVg"
      },
      "execution_count": null,
      "outputs": []
    },
    {
      "cell_type": "code",
      "source": [
        "type(a)"
      ],
      "metadata": {
        "id": "mspVB3mSXeQA"
      },
      "execution_count": null,
      "outputs": []
    },
    {
      "cell_type": "code",
      "source": [
        "a\n"
      ],
      "metadata": {
        "id": "tl645AcgXkaS"
      },
      "execution_count": null,
      "outputs": []
    },
    {
      "cell_type": "code",
      "source": [
        "int(a)"
      ],
      "metadata": {
        "id": "fRPMU_3pXliF"
      },
      "execution_count": null,
      "outputs": []
    },
    {
      "cell_type": "code",
      "source": [
        "type(a)"
      ],
      "metadata": {
        "id": "VEBkavShX1Im"
      },
      "execution_count": null,
      "outputs": []
    },
    {
      "cell_type": "code",
      "source": [
        "a= int(input())\n",
        "print(a)\n",
        "type(a)"
      ],
      "metadata": {
        "id": "eB9C2QuIX7q3"
      },
      "execution_count": null,
      "outputs": []
    },
    {
      "cell_type": "markdown",
      "source": [],
      "metadata": {
        "id": "EWdnQIJRYeJH"
      }
    }
  ]
}