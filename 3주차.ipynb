{
  "nbformat": 4,
  "nbformat_minor": 0,
  "metadata": {
    "colab": {
      "private_outputs": true,
      "provenance": [],
      "authorship_tag": "ABX9TyP4vqU0bWvZ3OUelQopzpjk",
      "include_colab_link": true
    },
    "kernelspec": {
      "name": "python3",
      "display_name": "Python 3"
    },
    "language_info": {
      "name": "python"
    }
  },
  "cells": [
    {
      "cell_type": "markdown",
      "metadata": {
        "id": "view-in-github",
        "colab_type": "text"
      },
      "source": [
        "<a href=\"https://colab.research.google.com/github/kimbc814/MACHINE_LEARNING/blob/main/3%EC%A3%BC%EC%B0%A8.ipynb\" target=\"_parent\"><img src=\"https://colab.research.google.com/assets/colab-badge.svg\" alt=\"Open In Colab\"/></a>"
      ]
    },
    {
      "cell_type": "markdown",
      "source": [
        "<ul> \n",
        "\n",
        "<li>for<br> : 줄 바꾸기\n",
        "\n",
        "<li>while<br> : 줄 바꾸기\n",
        "\n",
        "<li>list,random\n",
        "<br> : list.append\n",
        "<br> : list.remove\n",
        "<li> 과제\n",
        "<br> : 입력받은 (범위에서),while,append사용 찾기<br>- 소수,<br>- 약수,<br>- 소인수,<br>- 최대공약수,<br>- 최소공배수 \n",
        "</ul>"
      ],
      "metadata": {
        "id": "AdUOWAThX7_1"
      }
    },
    {
      "cell_type": "code",
      "source": [
        "#과제 소수\n",
        "check_data1=0\n",
        "num=int(input())\n",
        "for i in range(2,num) :\n",
        "  if num%i == 0 :\n",
        "    check_data1=1\n",
        "    break\n",
        "if(check_data1== 1) :\n",
        "   print(\"소수가 아닙니다.\")\n",
        "else :\n",
        "   print(\"소수입니다.\")"
      ],
      "metadata": {
        "id": "jenZ7ohJteKa"
      },
      "execution_count": null,
      "outputs": []
    },
    {
      "cell_type": "code",
      "source": [
        "#과제 약수\n",
        "data_num=[]\n",
        "num=int(input())\n",
        "for i in range(1,num+1) :\n",
        "  if num%i == 0 :\n",
        "    data_num.append(i)\n",
        "print(data_num)"
      ],
      "metadata": {
        "id": "EIo5Zu8CthIM"
      },
      "execution_count": null,
      "outputs": []
    },
    {
      "cell_type": "code",
      "source": [
        "#과제 소인수\n",
        "num_list1=[]\n",
        "inputnum1 = int(input())\n",
        "for i in range(2,inputnum1):\n",
        "  while inputnum1%i == 0:\n",
        "    num_list1.append(i)\n",
        "    inputnum1/=i\n",
        "print(num_list1)"
      ],
      "metadata": {
        "id": "llNujLXctj_a"
      },
      "execution_count": null,
      "outputs": []
    },
    {
      "cell_type": "code",
      "source": [
        "#과제 최대공약수\n",
        "data_num1=[]\n",
        "data_num2=[]\n",
        "data_num3=[]\n",
        "num=int(input())\n",
        "for i in range(1,num+1) :\n",
        "  if num%i == 0 :\n",
        "    data_num1.append(i)\n",
        "num=int(input())\n",
        "for i in range(1,num+1) :\n",
        "  if num%i == 0 :\n",
        "    data_num2.append(i)\n",
        "for i in data_num1:\n",
        "  if i in data_num2:\n",
        "    data_num3.append(i)      \n",
        "data_num.sort()    \n",
        "print(data_num3[-1])"
      ],
      "metadata": {
        "id": "Ofe8WAvvtlUP"
      },
      "execution_count": null,
      "outputs": []
    },
    {
      "cell_type": "code",
      "source": [
        "#과제 최소공배수  \n",
        "data_num1=[]\n",
        "data_num2=[]\n",
        "data_num3=[]\n",
        "num=int(input())\n",
        "for i in range(1,num+1) :\n",
        "  if num%i == 0 :\n",
        "    data_num1.append(i)\n",
        "num=int(input())\n",
        "for i in range(1,num+1) :\n",
        "  if num%i == 0 :\n",
        "    data_num2.append(i)\n",
        "for i in data_num1:\n",
        "  if i in data_num2:\n",
        "    data_num3.append(i)      \n",
        "data_num.sort()    \n",
        "data_num1[-1]*data_num2[-1]/data_num3[-1]"
      ],
      "metadata": {
        "id": "XkhXg_aXtlkZ"
      },
      "execution_count": null,
      "outputs": []
    },
    {
      "cell_type": "code",
      "execution_count": null,
      "metadata": {
        "id": "kvG7tPVtW1hC"
      },
      "outputs": [],
      "source": [
        "for i in range(10):\n",
        "  print(i)"
      ]
    },
    {
      "cell_type": "code",
      "source": [
        "a=[1,3,5,7,9,11,13]\n",
        "for i in a:\n",
        "  if(i%2 ==1):\n",
        "    print(i)"
      ],
      "metadata": {
        "id": "YY4JIDqgYw8E"
      },
      "execution_count": null,
      "outputs": []
    },
    {
      "cell_type": "code",
      "source": [
        "a=[]\n",
        "b=[]\n",
        "c=[]\n",
        "for i in range(1,4):\n",
        "  a.append(i)\n",
        "print(a)\n",
        "for i in range(4,7):\n",
        "  b.append(i)\n",
        "print(b)\n",
        "for i in range(3,6):\n",
        "  c.append(i)\n",
        "print(c)\n",
        "U = a+b\n",
        "print(U)\n",
        "U2 = a+c\n",
        "print(U2)\n",
        "###################\n",
        "for i in a:\n",
        "  for j in c:\n",
        "    if(i == j):\n",
        "      U2.remove(i)\n",
        "print(U2)\n",
        "####################\n",
        "U2 = a+c\n",
        "for i in a:\n",
        "  if i in c:\n",
        "    U2.remove(i)\n",
        "print(U2)"
      ],
      "metadata": {
        "id": "bNIAVotVaCya"
      },
      "execution_count": null,
      "outputs": []
    },
    {
      "cell_type": "code",
      "source": [
        "##교집합\n",
        "l1=[]\n",
        "for i in a:\n",
        "  if i in c:\n",
        "    l1.append(i)\n",
        "print(l1)"
      ],
      "metadata": {
        "id": "n3hc_LX-d7Eg"
      },
      "execution_count": null,
      "outputs": []
    },
    {
      "cell_type": "code",
      "source": [
        "l2=[]\n",
        "for i in a:\n",
        "  if i not in c:\n",
        "    l2.append(i)\n",
        "for i in c:\n",
        "  l2.append(i)\n",
        "l2.sort(reverse=True)\n",
        "print(l2)\n",
        "l2.sort()\n",
        "print(l2)\n"
      ],
      "metadata": {
        "id": "NXfhZajSeKDa"
      },
      "execution_count": null,
      "outputs": []
    },
    {
      "cell_type": "code",
      "source": [
        "#a-c\n",
        "l3=[]\n",
        "for i in a:\n",
        "  if i not in c:\n",
        "    l3.append(i)\n",
        "print(l3)\n",
        "#b-c\n",
        "l3=[]\n",
        "for i in b:\n",
        "  if i not in c:\n",
        "    l3.append(i)\n",
        "print(l3)\n",
        "#c-b\n",
        "l3=[]\n",
        "for i in c:\n",
        "  if i not in b:\n",
        "    l3.append(i)\n",
        "print(l3)"
      ],
      "metadata": {
        "id": "s2vT4hcdfkZD"
      },
      "execution_count": null,
      "outputs": []
    },
    {
      "cell_type": "code",
      "source": [
        "#id, pw 시스템\n",
        "pw_error =0\n",
        "id_dict={\"admin\":\"Abcd!#12\"}\n",
        "\n",
        "while True:\n",
        "  print(\"- 등록할 id : \")\n",
        "  reg_id= input()\n",
        "  if reg_id not in id_dict:\n",
        "    break\n",
        "  else :\n",
        "    print(\"- 이미 등록된 id 입니다. \")\n",
        "\n",
        "print(\" p.w : \")\n",
        "reg_pw=input()\n",
        "id_dict[reg_id]=reg_pw\n",
        "\n",
        "while True:\n",
        "  print(\"- 로그인 : \")\n",
        "  rogin_id=input()\n",
        "  check_id= rogin_id in id_dict\n",
        "  if check_id == False:\n",
        "    print(\"- 등록된 id가 없습니다. \")\n",
        "  if check_id == True:\n",
        "    print(\"- p.w : \")\n",
        "    rogin_pw=input()\n",
        "    if id_dict[rogin_id] == rogin_pw :\n",
        "      print(\"- 확인 되었습니다.\")\n",
        "      break\n",
        "    else :\n",
        "      pw_error+=1\n",
        "      print(\"- p.w가 틀렸습니다.\")"
      ],
      "metadata": {
        "id": "-lV22N6Nl53K"
      },
      "execution_count": null,
      "outputs": []
    },
    {
      "cell_type": "code",
      "source": [
        "#팩토리얼얼\n",
        "num1=int(input())\n",
        "num2=1\n",
        "while num1 > 0:\n",
        "  num2*=num1\n",
        "  print(\"({}*{}) \".format(num1,num2),end=\"\")\n",
        "  num1-=1\n",
        "  \n",
        "print(\"\\nresault : \",num2)"
      ],
      "metadata": {
        "id": "7i0i8B8Eo9eL"
      },
      "execution_count": null,
      "outputs": []
    },
    {
      "cell_type": "code",
      "source": [
        "#로또번호 추첨기\n",
        "import random\n",
        "num_list=[]\n",
        "for i in range(1,46):\n",
        "  num_list.append(i)\n",
        "random.shuffle(num_list)\n",
        "#print(num_list)\n",
        "\n",
        "lotto_num=[]\n",
        "while len(lotto_num)<6:\n",
        "  random.shuffle(num_list)\n",
        "  lotto_num.append(num_list[0])\n",
        "lotto_num.sort()\n",
        "print(lotto_num)\n"
      ],
      "metadata": {
        "id": "X1FTHpfkrxKG"
      },
      "execution_count": null,
      "outputs": []
    },
    {
      "cell_type": "code",
      "source": [
        "A=[]\n",
        "while True:\n",
        "  e=round(random.random(),2)\n",
        "  A.append(e)\n",
        "  if len(A) == 5:\n",
        "    break\n",
        "print(A)\n",
        "A=[]\n",
        "while True:\n",
        "  e=random.randint(0,30)\n",
        "  A.append(e)\n",
        "  if len(A) == 5:\n",
        "    break\n",
        "print(A)\n",
        "A=[]\n",
        "while True:\n",
        "  e=random.randrange(0,30,3)\n",
        "  A.append(e)\n",
        "  if len(A) == 5:\n",
        "    break\n",
        "print(A)"
      ],
      "metadata": {
        "id": "rCyNw1PWtdpw"
      },
      "execution_count": null,
      "outputs": []
    },
    {
      "cell_type": "code",
      "source": [],
      "metadata": {
        "id": "nqTRAP6qsPeK"
      },
      "execution_count": null,
      "outputs": []
    },
    {
      "cell_type": "code",
      "source": [
        "#구구단\n",
        "num1=1\n",
        "num2=1\n",
        "while num1<10:\n",
        "  while num2<10:\n",
        "    print(\"{} * {} = {}\".format(num1,num2,num1*num2))\n",
        "    num2+=1\n",
        "  num2=1\n",
        "  num1+=1\n",
        "  print(\"----------------\")\n",
        "\n"
      ],
      "metadata": {
        "id": "hP6aFbuWkUq8"
      },
      "execution_count": null,
      "outputs": []
    },
    {
      "cell_type": "code",
      "source": [],
      "metadata": {
        "id": "m2lLvtzkg_4z"
      },
      "execution_count": null,
      "outputs": []
    }
  ]
}