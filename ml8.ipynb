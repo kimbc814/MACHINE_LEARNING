{
  "nbformat": 4,
  "nbformat_minor": 0,
  "metadata": {
    "colab": {
      "private_outputs": true,
      "provenance": [],
      "authorship_tag": "ABX9TyPGYu7HqFdR2IUFA6Ya5X/E",
      "include_colab_link": true
    },
    "kernelspec": {
      "name": "python3",
      "display_name": "Python 3"
    },
    "language_info": {
      "name": "python"
    }
  },
  "cells": [
    {
      "cell_type": "markdown",
      "metadata": {
        "id": "view-in-github",
        "colab_type": "text"
      },
      "source": [
        "<a href=\"https://colab.research.google.com/github/kimbc814/MACHINE_LEARNING/blob/main/ml8.ipynb\" target=\"_parent\"><img src=\"https://colab.research.google.com/assets/colab-badge.svg\" alt=\"Open In Colab\"/></a>"
      ]
    },
    {
      "cell_type": "code",
      "execution_count": null,
      "metadata": {
        "id": "1u2uKNkhoGys"
      },
      "outputs": [],
      "source": [
        "import tensorflow as tf\n",
        "import tensorflow as tfhub\n",
        "import matplotlib.pyplot as plt"
      ]
    },
    {
      "cell_type": "code",
      "source": [
        "mnist = tf.keras.datasets.mnist\n",
        "(x_train,y_train),(x_valid, y_valid) = mnist.load_data()\n",
        "\n",
        "def plot_image(data,idx):\n",
        "    plt.figure(figsize = (5,5))\n",
        "    plt.imshow(data[idx],cmap = 'gray')\n",
        "    plt.axis('off')\n",
        "    plt.show()\n",
        "plot_image(x_train,1)"
      ],
      "metadata": {
        "id": "dHgeF7WYoN8-"
      },
      "execution_count": null,
      "outputs": []
    },
    {
      "cell_type": "code",
      "source": [
        "print(x_train.min(),x_train.max())\n",
        "print(x_valid.min(),x_valid.max())"
      ],
      "metadata": {
        "id": "3eApj3u1oQUN"
      },
      "execution_count": null,
      "outputs": []
    },
    {
      "cell_type": "code",
      "source": [
        "x_train = x_train/x_train.max()\n",
        "x_valid = x_valid/x_valid.max()"
      ],
      "metadata": {
        "id": "V_XLLXszoSQM"
      },
      "execution_count": null,
      "outputs": []
    },
    {
      "cell_type": "code",
      "source": [
        "x_train.shape"
      ],
      "metadata": {
        "id": "pMffvqpUoUAv"
      },
      "execution_count": null,
      "outputs": []
    },
    {
      "cell_type": "code",
      "source": [
        "x_train_in = x_train[...,tf.newaxis]\n",
        "x_valid_in = x_valid[...,tf.newaxis]\n",
        "print(x_train_in.shape, x_valid_in.shape)"
      ],
      "metadata": {
        "id": "y4O4bxYeoVl-"
      },
      "execution_count": null,
      "outputs": []
    },
    {
      "cell_type": "code",
      "source": [
        "model = tf.keras.Sequential([tf.keras.layers.Conv2D(32,(3,3),activation = 'relu', input_shape = (28,28,1),name = 'conv'),\n",
        "                             tf.keras.layers.MaxPool2D((2,2),name = 'pool'),\n",
        "                             tf.keras.layers.Flatten(),\n",
        "                             tf.keras.layers.Dense(10,activation = 'softmax')\n",
        "])\n",
        "\n",
        "model.compile(optimizer='adam', loss = 'sparse_categorical_crossentropy', metrics=['accuracy'])\n",
        "history = model.fit(x_train,y_train, validation_data = (x_valid, y_valid), epochs = 10)"
      ],
      "metadata": {
        "id": "s5Cgqg21oXqr"
      },
      "execution_count": null,
      "outputs": []
    },
    {
      "cell_type": "code",
      "source": [
        "model.summary()"
      ],
      "metadata": {
        "id": "guYcMmKZoZrf"
      },
      "execution_count": null,
      "outputs": []
    },
    {
      "cell_type": "code",
      "source": [
        "model.evaluate(x_valid_in,y_valid)"
      ],
      "metadata": {
        "id": "qqjmDs3Woa6V"
      },
      "execution_count": null,
      "outputs": []
    },
    {
      "cell_type": "code",
      "source": [
        "loss, val_loss = history.history['loss'],history.history['val_loss']\n",
        "acc,val_acc = history.history['accuracy'],history.history['val_accuracy']\n",
        "epoch = 10\n",
        "fig,axes = plt.subplots(1,2,figsize = (12,4))\n",
        "axes[0].plot(range(1,epoch +1),loss,label = 'Training')\n",
        "axes[0].plot(range(1,epoch +1),val_loss,label = 'Validation')\n",
        "axes[0].legend(loc='best')\n",
        "axes[0].set_title('Loss')\n",
        "\n",
        "axes[1].plot(range(1,epoch +1),acc,label = 'Training')\n",
        "axes[1].plot(range(1,epoch +1),val_acc,label = 'Validation')\n",
        "axes[1].legend(loc='best')\n",
        "axes[1].set_title('Accuracy')"
      ],
      "metadata": {
        "id": "XrOOHRRxoclk"
      },
      "execution_count": null,
      "outputs": []
    },
    {
      "cell_type": "code",
      "source": [
        "model.layers"
      ],
      "metadata": {
        "id": "o_ZPCFhBoej9"
      },
      "execution_count": null,
      "outputs": []
    },
    {
      "cell_type": "code",
      "source": [
        "model.layers[0].weights"
      ],
      "metadata": {
        "id": "yGQ0Dnbiog0u"
      },
      "execution_count": null,
      "outputs": []
    },
    {
      "cell_type": "code",
      "source": [
        "model.layers[0].bias"
      ],
      "metadata": {
        "id": "dDwVCoYSojKr"
      },
      "execution_count": null,
      "outputs": []
    },
    {
      "cell_type": "code",
      "source": [
        "model.layers[0].kernel"
      ],
      "metadata": {
        "id": "4r7-BUQIokP2"
      },
      "execution_count": null,
      "outputs": []
    },
    {
      "cell_type": "code",
      "source": [
        "model.layers[0].bias"
      ],
      "metadata": {
        "id": "BDheauVzolgy"
      },
      "execution_count": null,
      "outputs": []
    },
    {
      "cell_type": "code",
      "source": [
        "model.get_layer('conv')"
      ],
      "metadata": {
        "id": "2UZkiQstoml9"
      },
      "execution_count": null,
      "outputs": []
    },
    {
      "cell_type": "code",
      "source": [
        "activator = tf.keras.Model(inputs = model.input,outputs = [layer.output for layer in model.layers[:2]] )"
      ],
      "metadata": {
        "id": "gfj8aVc0on3s"
      },
      "execution_count": null,
      "outputs": []
    },
    {
      "cell_type": "code",
      "source": [
        "activations = activator.predict(x_train_in[0][tf.newaxis, ...])\n",
        "len(activations)"
      ],
      "metadata": {
        "id": "we4mSVNUopAa"
      },
      "execution_count": null,
      "outputs": []
    },
    {
      "cell_type": "code",
      "source": [
        "conv = activations[0]\n",
        "conv.shape"
      ],
      "metadata": {
        "id": "uALpJQnRopmy"
      },
      "execution_count": null,
      "outputs": []
    },
    {
      "cell_type": "code",
      "source": [
        "fig, axes = plt.subplots(4, 8)\n",
        "fig.set_size_inches(10,5)\n",
        "\n",
        "for i in range(32):\n",
        "    ax = axes[i//8, i%8]\n",
        "    ax.imshow(conv[0,:, :, i], cmap = 'viridis')\n",
        "    ax.set_title('kernel %s'%str(i), fontsize = 10)\n",
        "    plt.setp(axes[i//8,i%8].get_xticklabels(),visible = False)\n",
        "    plt.setp(axes[i//8,i%8].get_yticklabels(),visible = False)\n",
        "\n",
        "plt.tight_layout()\n",
        "plt.show() "
      ],
      "metadata": {
        "id": "p1UIU_-Goric"
      },
      "execution_count": null,
      "outputs": []
    },
    {
      "cell_type": "code",
      "source": [
        "pooling = activations[1]\n",
        "pooling.shape"
      ],
      "metadata": {
        "id": "xQZB7wHNosok"
      },
      "execution_count": null,
      "outputs": []
    },
    {
      "cell_type": "code",
      "source": [
        "fig, axes = plt.subplots(4, 8)\n",
        "fig.set_size_inches(10,5)\n",
        "\n",
        "for i in range(32):\n",
        "    ax = axes[i//8, i%8]\n",
        "    ax.imshow(pooling[0,:, :, i], cmap = 'viridis')\n",
        "    ax.set_title('kernel %s'%str(i), fontsize = 10)\n",
        "    plt.setp(axes[i//8,i%8].get_xticklabels(),visible = False)\n",
        "    plt.setp(axes[i//8,i%8].get_yticklabels(),visible = False)\n",
        "\n",
        "plt.tight_layout()\n",
        "plt.show()"
      ],
      "metadata": {
        "id": "aNV4u9d8otMh"
      },
      "execution_count": null,
      "outputs": []
    },
    {
      "cell_type": "code",
      "source": [
        "img_path = 'https://uyjoqvxyzgvv9714092.cdn.ntruss.com/data2/content/image/2012/08/15/.cache/512/20120815122420.jpg'\n",
        "img = tf.keras.utils.get_file(fname='gangnam',origin=img_path)\n",
        "img = tf.io.read_file(img)  #파일 객체를 string으로 변환\n",
        "img = tf.image.decode_jpeg(img,channels=3) #문자를 숫자 텐서로 변환\n",
        "img = tf.image.convert_image_dtype(img,tf.float32)  #0~1 범위로 정규화\n",
        "\n",
        "plt.figure(figsize=(15,10))\n",
        "plt.imshow(img)"
      ],
      "metadata": {
        "id": "z7xT1vrkovLG"
      },
      "execution_count": null,
      "outputs": []
    },
    {
      "cell_type": "code",
      "source": [
        "img.shape"
      ],
      "metadata": {
        "id": "9t9XOiguow0N"
      },
      "execution_count": null,
      "outputs": []
    },
    {
      "cell_type": "code",
      "source": [
        "img_input = tf.expand_dims(img,0) # batch_size 추가. 4차원 텐서로 입력\n",
        "img_input.shape"
      ],
      "metadata": {
        "id": "92ieJfDboxGw"
      },
      "execution_count": null,
      "outputs": []
    },
    {
      "cell_type": "code",
      "source": [
        "import tensorflow as tfhub"
      ],
      "metadata": {
        "id": "MWdlGipooyYr"
      },
      "execution_count": null,
      "outputs": []
    },
    {
      "cell_type": "code",
      "source": [
        "import tensorflow as tf\n",
        "import tensorflow_hub as hub\n",
        "\n",
        "model = hub.load(\"https://tfhub.dev/google/faster_rcnn/openimages_v4/inception_resnet_v2/1\")"
      ],
      "metadata": {
        "id": "ADmUcDswozgk"
      },
      "execution_count": null,
      "outputs": []
    },
    {
      "cell_type": "code",
      "source": [
        "model.signatures.keys()"
      ],
      "metadata": {
        "id": "D3WICIE8o0pH"
      },
      "execution_count": null,
      "outputs": []
    },
    {
      "cell_type": "code",
      "source": [
        "obj_detector = model.signatures['default']\n",
        "obj_detector"
      ],
      "metadata": {
        "id": "wvC0p0LGo1uS"
      },
      "execution_count": null,
      "outputs": []
    },
    {
      "cell_type": "code",
      "source": [
        "result = obj_detector(img_input)\n",
        "result.keys()"
      ],
      "metadata": {
        "id": "xkmWaG5co20G"
      },
      "execution_count": null,
      "outputs": []
    },
    {
      "cell_type": "code",
      "source": [
        "type(result)"
      ],
      "metadata": {
        "id": "VzKN9joUo38f"
      },
      "execution_count": null,
      "outputs": []
    },
    {
      "cell_type": "code",
      "source": [
        "boxes = result[\"detection_boxes\"]\n",
        "labels = result[\"detection_class_labels\"]\n",
        "scores = result[\"detection_scores\"]"
      ],
      "metadata": {
        "id": "8e68E8d5o41Q"
      },
      "execution_count": null,
      "outputs": []
    },
    {
      "cell_type": "code",
      "source": [
        "len(result[\"detection_scores\"])"
      ],
      "metadata": {
        "id": "fvidfDrCo5zU"
      },
      "execution_count": null,
      "outputs": []
    },
    {
      "cell_type": "code",
      "source": [
        "type(result)"
      ],
      "metadata": {
        "id": "N9RGpZruo62j"
      },
      "execution_count": null,
      "outputs": []
    },
    {
      "cell_type": "code",
      "source": [
        "for key, value in result.items():\n",
        "    print(key, value)"
      ],
      "metadata": {
        "id": "3vVcVxG8o7r6"
      },
      "execution_count": null,
      "outputs": []
    },
    {
      "cell_type": "code",
      "source": [
        "labels = result[\"detection_class_entities\"]\n",
        "names = result[\"detection_class_names\"]"
      ],
      "metadata": {
        "id": "8oqkHogBo8r7"
      },
      "execution_count": null,
      "outputs": []
    },
    {
      "cell_type": "code",
      "source": [
        "boxes = result[\"detection_boxes\"]\n",
        "labels = result[\"detection_class_labels\"]\n",
        "scores = result[\"detection_scores\"]"
      ],
      "metadata": {
        "id": "oNvttJtVo-Gi"
      },
      "execution_count": null,
      "outputs": []
    },
    {
      "cell_type": "code",
      "source": [
        "img_height, img_width = img.shape[0], img.shape[1]\n",
        "obj_to_detect = 10\n",
        "for i in range(min(obj_to_detect, boxes.shape[0])):\n",
        "    if scores[i] >= 0.2:\n",
        "        (ymax, xmin, ymin, xmax) = (boxes[i][0] * img_height, boxes[i][1] * img_width,\n",
        "                                    boxes[i][2] * img_height, boxes[i][3] * img_width)\n",
        "        print(\"{} : ({},{},{},{})\".format(scores[i], ymax, xmin, ymin, xmax))\n",
        "\n",
        "obj_to_detect = 10\n",
        "\n",
        "plt.figure(figsize=(15, 10))\n",
        "for i in range(min(obj_to_detect, boxes.shape[0])):\n",
        "    if scores[i] >= 0.2:\n",
        "        (ymax, xmin, ymin, xmax) = (boxes[i][0] * img_height, boxes[i][1] * img_width,\n",
        "                                    boxes[i][2] * img_height, boxes[i][3] * img_width)\n",
        "        plt.imshow(img)\n",
        "        plt.plot([xmin, xmax, xmax, xmin, xmin], [ymin, ymax, ymax, ymin, ymin],\n",
        "                 color='yellow', linewidth=2)\n",
        "      \n",
        "        class_name = labels[i].numpy().decode('utf-8')\n",
        "        infer_score = int(scores[i].numpy() * 100)"
      ],
      "metadata": {
        "id": "8w-bSFTAo_KQ"
      },
      "execution_count": null,
      "outputs": []
    },
    {
      "cell_type": "code",
      "source": [],
      "metadata": {
        "id": "ijPDYZ_KpA-f"
      },
      "execution_count": null,
      "outputs": []
    }
  ]
}