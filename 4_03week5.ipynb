{
  "nbformat": 4,
  "nbformat_minor": 0,
  "metadata": {
    "colab": {
      "private_outputs": true,
      "provenance": [],
      "authorship_tag": "ABX9TyN64svR0bWyb6JY+u0XE5KL",
      "include_colab_link": true
    },
    "kernelspec": {
      "name": "python3",
      "display_name": "Python 3"
    },
    "language_info": {
      "name": "python"
    }
  },
  "cells": [
    {
      "cell_type": "markdown",
      "metadata": {
        "id": "view-in-github",
        "colab_type": "text"
      },
      "source": [
        "<a href=\"https://colab.research.google.com/github/kimbc814/MACHINE_LEARNING/blob/main/4_03week5.ipynb\" target=\"_parent\"><img src=\"https://colab.research.google.com/assets/colab-badge.svg\" alt=\"Open In Colab\"/></a>"
      ]
    },
    {
      "cell_type": "markdown",
      "source": [
        "week5 -ch2 tensorFlow\n",
        "week6 -ch3 단순선형회귀\n",
        "week7 -ch3 mnist\n",
        "week8 -ch4 cnn\n",
        "week9 -ch5 rnn\n",
        "week10 -ch5 lstm\n"
      ],
      "metadata": {
        "id": "uC8FI74-et9w"
      }
    },
    {
      "cell_type": "code",
      "execution_count": null,
      "metadata": {
        "id": "d3dINoDzbcu9"
      },
      "outputs": [],
      "source": [
        "import tensorflow as tf\n",
        "import numpy as np\n",
        "import matplotlib.pyplot as plt\n"
      ]
    },
    {
      "cell_type": "code",
      "source": [
        "a=1\n",
        "b=2\n",
        "c=tf.math.add(a,b)\n",
        "c"
      ],
      "metadata": {
        "id": "vmAC3kZrfRvL"
      },
      "execution_count": null,
      "outputs": []
    },
    {
      "cell_type": "code",
      "source": [
        "c.numpy()"
      ],
      "metadata": {
        "id": "iAHhtAZPfahG"
      },
      "execution_count": null,
      "outputs": []
    },
    {
      "cell_type": "code",
      "source": [
        "c1=tf.constant(1)\n",
        "c2=tf.constant(2)\n",
        "print(c1,c2)"
      ],
      "metadata": {
        "id": "FcYEYCKggEnU"
      },
      "execution_count": null,
      "outputs": []
    },
    {
      "cell_type": "code",
      "source": [
        "f1=tf.cast(c1,tf.float32)\n",
        "f2=tf.cast(c2,tf.float32)\n",
        "print(f1,f2)"
      ],
      "metadata": {
        "id": "tI-8c5jLgSB_"
      },
      "execution_count": null,
      "outputs": []
    },
    {
      "cell_type": "code",
      "source": [
        "add=tf.math.add(c1,c2)\n",
        "print(\"add      : \",add)\n",
        "sub=tf.math.subtract(c1,c2)\n",
        "print(\"sub      : \",sub)\n",
        "multiply=tf.math.multiply(c1,c2)\n",
        "print(\"multiply : \",multiply)\n",
        "divide=tf.math.divide(c1,c2)\n",
        "print(\"divide   : \",divide)\n",
        "mod=tf.math.mod(c1,c2)\n",
        "print(\"mod      : \",mod)\n",
        "floordiv=tf.math.floordiv(c1,c2)\n",
        "print(\"floordiv : \",floordiv)"
      ],
      "metadata": {
        "id": "QtvgVYGCgxCf"
      },
      "execution_count": null,
      "outputs": []
    },
    {
      "cell_type": "code",
      "source": [
        "py_list=[10,20,30]\n",
        "ten_list=tf.constant(py_list)\n",
        "print(ten_list)\n",
        "ten_list=tf.constant([10,20,30])\n",
        "print(ten_list)"
      ],
      "metadata": {
        "id": "so31FXFIhPTb"
      },
      "execution_count": null,
      "outputs": []
    },
    {
      "cell_type": "code",
      "source": [
        "num_arr=np.array([10,10,10])\n",
        "ten_arr=tf.constant(num_arr,dtype=tf.int32)\n",
        "print(ten_arr)"
      ],
      "metadata": {
        "id": "k13ytLBYis3v"
      },
      "execution_count": null,
      "outputs": []
    },
    {
      "cell_type": "code",
      "source": [
        "dd1=tf.math.add(ten_list,ten_arr)\n",
        "print(dd1)"
      ],
      "metadata": {
        "id": "p3nuqXJejm_v"
      },
      "execution_count": null,
      "outputs": []
    },
    {
      "cell_type": "code",
      "source": [
        "A=ten_list+ten_arr\n",
        "M=ten_list-ten_arr\n",
        "A=ten_list*ten_arr\n",
        "A=ten_list/ten_arr\n",
        "A=ten_list%ten_arr\n",
        "A=ten_list//ten_arr"
      ],
      "metadata": {
        "id": "Rpzbs5ATjmil"
      },
      "execution_count": null,
      "outputs": []
    },
    {
      "cell_type": "code",
      "source": [
        "l_a=[1,0]\n",
        "l_b=[-1,2]\n",
        "l_c=[1,0]"
      ],
      "metadata": {
        "id": "Dcc0Lblvmb2M"
      },
      "execution_count": null,
      "outputs": []
    },
    {
      "cell_type": "code",
      "source": [
        "l_a=tf.constant(l_a)\n",
        "l_b=tf.constant(l_b)\n",
        "l_c=tf.constant(l_c)\n",
        "A=tf.stack([l_a,l_b,l_c])\n",
        "A"
      ],
      "metadata": {
        "id": "HndTh0i7mkk2"
      },
      "execution_count": null,
      "outputs": []
    },
    {
      "cell_type": "code",
      "source": [
        "l_B=[[10,20],[30,40]]\n",
        "l_C=[[10,20],[20,40]]\n",
        "l_E=[[30,10],[10,10,]]"
      ],
      "metadata": {
        "id": "pflcxgmkm1mC"
      },
      "execution_count": null,
      "outputs": []
    },
    {
      "cell_type": "code",
      "source": [
        "B=tf.constant(l_B)\n",
        "C=tf.constant(l_C)\n",
        "E=tf.constant(l_E)\n",
        "B,C,E"
      ],
      "metadata": {
        "id": "7ottDU5enJn4"
      },
      "execution_count": null,
      "outputs": []
    },
    {
      "cell_type": "code",
      "source": [
        "m_BCE=tf.stack([B,C,E])\n",
        "m_BCE"
      ],
      "metadata": {
        "id": "GRer83HancUN"
      },
      "execution_count": null,
      "outputs": []
    },
    {
      "cell_type": "code",
      "source": [
        "l_c1=[1,2,3,4]\n",
        "l_c2=[3,4,2,5]\n",
        "l_c3=[2,3,4,5]\n",
        "l_c4=[6,5,7,3]\n",
        "l_c5=[1,1,1,1]\n",
        "l_c6=[8,1,0,6]"
      ],
      "metadata": {
        "id": "D3TL5ATErHb4"
      },
      "execution_count": null,
      "outputs": []
    },
    {
      "cell_type": "code",
      "source": [
        "c1=tf.constant(l_c1)\n",
        "c2=tf.constant(l_c2)\n",
        "c3=tf.constant(l_c3)\n",
        "c4=tf.constant(l_c4)\n",
        "c5=tf.constant(l_c5)\n",
        "c6=tf.constant(l_c6)"
      ],
      "metadata": {
        "id": "Sa9JFJa5ra3A"
      },
      "execution_count": null,
      "outputs": []
    },
    {
      "cell_type": "code",
      "source": [
        "t_A=tf.stack([c1,c2])\n",
        "t_B=tf.stack([c3,c4])\n",
        "t_C=tf.stack([c5,c6])\n",
        "t_AA=tf.stack([t_A,t_B,t_C])\n",
        "t_AA"
      ],
      "metadata": {
        "id": "FNoMWnnrrmPO"
      },
      "execution_count": null,
      "outputs": []
    },
    {
      "cell_type": "code",
      "source": [
        "x=range(1,10)\n",
        "x=list(x)\n",
        "x1=tf.constant(x)\n",
        "x1"
      ],
      "metadata": {
        "id": "cWN91ounsr7b"
      },
      "execution_count": null,
      "outputs": []
    },
    {
      "cell_type": "code",
      "source": [
        "x2= tf.reshape(x1,[3,-1])\n",
        "x2"
      ],
      "metadata": {
        "id": "2DP-Vmb-t6Gh"
      },
      "execution_count": null,
      "outputs": []
    },
    {
      "cell_type": "code",
      "source": [
        "x2[1:2,:2]"
      ],
      "metadata": {
        "id": "jK4E7xpMuLRM"
      },
      "execution_count": null,
      "outputs": []
    },
    {
      "cell_type": "code",
      "source": [
        "t7=tf.constant(range(0,24))\n",
        "t7"
      ],
      "metadata": {
        "id": "9JJUcq-3v-ud"
      },
      "execution_count": null,
      "outputs": []
    },
    {
      "cell_type": "code",
      "source": [
        "r_t7=tf.reshape(t7,[3,8])\n",
        "r_t7"
      ],
      "metadata": {
        "id": "-424D-MowDtN"
      },
      "execution_count": null,
      "outputs": []
    },
    {
      "cell_type": "code",
      "source": [
        "r2_t7=tf.reshape(t7,[-1,4])\n",
        "r2_t7"
      ],
      "metadata": {
        "id": "BlO4NNqTwKae"
      },
      "execution_count": null,
      "outputs": []
    },
    {
      "cell_type": "code",
      "source": [
        "r3_t7=tf.reshape(r2_t7,[-1])\n",
        "r3_t7"
      ],
      "metadata": {
        "id": "akAcuVpewuqO"
      },
      "execution_count": null,
      "outputs": []
    },
    {
      "cell_type": "code",
      "source": [
        "r4_t7=tf.reshape(r2_t7,[-1,3,4])\n",
        "r4_t7"
      ],
      "metadata": {
        "id": "rfQZS9uvw-1N"
      },
      "execution_count": null,
      "outputs": []
    },
    {
      "cell_type": "code",
      "source": [
        "r6_t7=tf.reshape(r2_t7,[-1,2,2,2])\n",
        "r6_t7"
      ],
      "metadata": {
        "id": "8mSf5uOJxGDt"
      },
      "execution_count": null,
      "outputs": []
    },
    {
      "cell_type": "code",
      "source": [
        "x= tf.Variable(2.0)\n",
        "with tf.GradientTape() as tape:\n",
        "    y= x ** 2\n",
        "dy_dx=tape.gradient(y,x)\n",
        "dy_dx.numpy()"
      ],
      "metadata": {
        "id": "Yv4q8_1Uxiqk"
      },
      "execution_count": null,
      "outputs": []
    },
    {
      "cell_type": "code",
      "source": [
        "g=tf.random.Generator.from_seed(2020)\n",
        "x= g.normal(shape=(10,))\n",
        "y=3*x-2\n",
        "x.numpy(),y.numpy()"
      ],
      "metadata": {
        "id": "GXWZhsJI1HLg"
      },
      "execution_count": null,
      "outputs": []
    },
    {
      "cell_type": "code",
      "source": [
        "m2=tf.constant([[1.,1.],[2.,2.]])\n",
        "m2"
      ],
      "metadata": {
        "id": "6EZwvXN61gM0"
      },
      "execution_count": null,
      "outputs": []
    },
    {
      "cell_type": "code",
      "source": [
        "mean2=tf.reduce_mean(m2)\n",
        "mean2"
      ],
      "metadata": {
        "id": "hOTscfl1154N"
      },
      "execution_count": null,
      "outputs": []
    },
    {
      "cell_type": "code",
      "source": [
        "# y=x^2 의 미분값\n",
        "x = tf.Variable(2.0)\n",
        "\n",
        "with tf.GradientTape() as tape:\n",
        "    y = x ** 2\n",
        "dy_dx = tape.gradient(y,x)\n",
        "dy_dx.numpy()"
      ],
      "metadata": {
        "id": "fOZcMxy8WvaI"
      },
      "execution_count": null,
      "outputs": []
    },
    {
      "cell_type": "code",
      "source": [
        "# loss함수 정의\n",
        "def cal_mse(x,y,a,b):\n",
        "    y_pred = a*x + b\n",
        "    squared_error = (y_pred - y) **2\n",
        "    mean_squared_error = tf.reduce_mean(squared_error)\n",
        "\n",
        "    return mean_squared_error"
      ],
      "metadata": {
        "id": "WJIjd_VMXYDp"
      },
      "execution_count": null,
      "outputs": []
    },
    {
      "cell_type": "code",
      "source": [
        "a = tf.Variable(0.0)\n",
        "b = tf.Variable(0.0)\n",
        "\n",
        "EPOCHS = 300\n",
        "\n",
        "for epoch in range(1, EPOCHS+1):\n",
        "    with tf.GradientTape() as tape:\n",
        "        mse = cal_mse(x, y, a, b)\n",
        "    if mse < 0.00001:\n",
        "        break\n",
        "    \n",
        "    grade = tape.gradient(mse, {'a':a, 'b':b})\n",
        "    d_a, d_b = grade['a'], grade['b']\n",
        "    a.assign_sub(d_a * 0.05)## a = a - d_a*0.05(학습률)\n",
        "    b.assign_sub(d_b * 0.05)## b = b - d_b*0.05(학습률)\n",
        "\n",
        "    if epoch % 20 == 0:\n",
        "        print(\"EPOCH %d - MSE : %.4f - a: %.2f - b : %.2f\"%(epoch, mse, a, b))"
      ],
      "metadata": {
        "id": "t7RQlvK7XugZ"
      },
      "execution_count": null,
      "outputs": []
    },
    {
      "cell_type": "code",
      "source": [
        "y_pred = 2.99* x- 1.99\n",
        "plt.scatter(x,y)\n",
        "plt.plot(x,y_pred,color = 'r')\n",
        "plt.show()"
      ],
      "metadata": {
        "id": "BP2kLa4LYDE5"
      },
      "execution_count": null,
      "outputs": []
    },
    {
      "cell_type": "code",
      "source": [
        "g = tf.random.Generator.from_seed(2020)\n",
        "x1 = g.normal(shape = (10,))\n",
        "noise = np.random.normal(-abs(noise),abs(noise),size = (10,))\n",
        "y = 3*x - 2 + noise"
      ],
      "metadata": {
        "id": "bMoxw_R6XTaL"
      },
      "execution_count": null,
      "outputs": []
    },
    {
      "cell_type": "code",
      "source": [
        "a = tf.Variable(0.0)\n",
        "b = tf.Variable(0.0)\n",
        "\n",
        "EPOCHS = 1000\n",
        "\n",
        "for epoch in range(1, EPOCHS+1):\n",
        "    with tf.GradientTape() as tape:\n",
        "        mse = cal_mse(x1, y, a, b)\n",
        "    if mse < 0.000001:\n",
        "        break\n",
        "    \n",
        "    grade = tape.gradient(mse, {'a':a, 'b':b})\n",
        "    d_a, d_b = grade['a'], grade['b']\n",
        "    a.assign_sub(d_a * 0.05)\n",
        "    b.assign_sub(d_b * 0.05)\n",
        "\n",
        "    if epoch % 20 == 0:\n",
        "        print(\"EPOCH %d - MSE : %.4f - a: %.2f - b : %.2f\"%(epoch, mse, a, b))"
      ],
      "metadata": {
        "id": "gpZq0B1CcrkS"
      },
      "execution_count": null,
      "outputs": []
    },
    {
      "cell_type": "code",
      "source": [
        "y_pred = 3.00*x1 -2.00\n",
        "plt.scatter(x,y)\n",
        "plt.plot(x1, y_pred, color = 'r')\n",
        "plt.show()"
      ],
      "metadata": {
        "id": "9mfmhqbccvj5"
      },
      "execution_count": null,
      "outputs": []
    }
  ]
}