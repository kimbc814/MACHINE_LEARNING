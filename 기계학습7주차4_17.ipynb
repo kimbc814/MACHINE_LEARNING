{
  "nbformat": 4,
  "nbformat_minor": 0,
  "metadata": {
    "colab": {
      "private_outputs": true,
      "provenance": [],
      "authorship_tag": "ABX9TyNUjltbaIqV2lawhg2got0o",
      "include_colab_link": true
    },
    "kernelspec": {
      "name": "python3",
      "display_name": "Python 3"
    },
    "language_info": {
      "name": "python"
    }
  },
  "cells": [
    {
      "cell_type": "markdown",
      "metadata": {
        "id": "view-in-github",
        "colab_type": "text"
      },
      "source": [
        "<a href=\"https://colab.research.google.com/github/kimbc814/MACHINE_LEARNING/blob/main/%EA%B8%B0%EA%B3%84%ED%95%99%EC%8A%B57%EC%A3%BC%EC%B0%A84_17.ipynb\" target=\"_parent\"><img src=\"https://colab.research.google.com/assets/colab-badge.svg\" alt=\"Open In Colab\"/></a>"
      ]
    },
    {
      "cell_type": "markdown",
      "source": [
        "#심층 신경망으로 이미지 분류\n",
        "  1.   이미지 데이터셋 로드\n",
        "  2.   이미지 데이터 정규화 :수렴속도 증가\n",
        "  3.   DenseLayer 에 입력하기 위한 자원축소 : reshape().shape\n",
        "  4.   모델 생성(DenseLayer(노드수, 활성화 함수))\n",
        "  5.   compile(): 컴파일(옵티마이저,손실함수,평가지표)\n",
        "  6.   fit(): 훈련\n",
        "  7.   evaluate(): 검증\n",
        "  8.   predict(): 예측\n",
        "\n",
        "\n",
        "1.   데이터셋 업로드.\n",
        "\n"
      ],
      "metadata": {
        "id": "HZZTeuFets7h"
      }
    },
    {
      "cell_type": "code",
      "execution_count": null,
      "metadata": {
        "id": "EG3guFPQjAXl"
      },
      "outputs": [],
      "source": [
        "import tensorflow as tf\n",
        "import numpy as np\n",
        "import matplotlib.pyplot as plt\n"
      ]
    },
    {
      "cell_type": "code",
      "source": [
        "#1. 케라스 내장 데이터셋 업로드\n",
        "mnist =tf.keras.datasets.mnist"
      ],
      "metadata": {
        "id": "LR5qZmLqwvOt"
      },
      "execution_count": null,
      "outputs": []
    },
    {
      "cell_type": "code",
      "source": [
        "(x_train,y_train),(x_test,y_test)=mnist.load_data()"
      ],
      "metadata": {
        "id": "ZcUdzbIEw2eZ"
      },
      "execution_count": null,
      "outputs": []
    },
    {
      "cell_type": "code",
      "source": [
        "print(\"train set : \", x_train.shape,y_train.shape)\n",
        "print(\"test set : \", x_test.shape,y_test.shape)"
      ],
      "metadata": {
        "id": "Ul9WjaC9xGA5"
      },
      "execution_count": null,
      "outputs": []
    },
    {
      "cell_type": "code",
      "source": [
        "#훈련용 데이터 시각화\n",
        "fig,axes=plt.subplots(3,5)\n",
        "fig.set_size_inches(8,5)\n",
        "\n",
        "for i in range(15):\n",
        "  ax = axes[i//5,i%5]\n",
        "  ax.imshow(x_train[i],cmap='gray')\n",
        "  ax.axis('off')\n",
        "  ax.set_title(str(y_train[i]))\n",
        "\n",
        "plt.tight_layout()\n",
        "plt.show()"
      ],
      "metadata": {
        "id": "aMYsbFOsxTyR"
      },
      "execution_count": null,
      "outputs": []
    },
    {
      "cell_type": "code",
      "source": [
        "#정규화 : 0~1 사이 값으로 변환, 최대값으로 나눈다.\n",
        "x_train_n=x_train/x_train.max()"
      ],
      "metadata": {
        "id": "wYEMYWvYzvrN"
      },
      "execution_count": null,
      "outputs": []
    },
    {
      "cell_type": "code",
      "source": [
        "x_train[0,10:15,10:15]"
      ],
      "metadata": {
        "id": "zsBFpJKlyaWB"
      },
      "execution_count": null,
      "outputs": []
    },
    {
      "cell_type": "code",
      "source": [
        "#차원 축소\n",
        "x_train.reshape(60000,-1).shape"
      ],
      "metadata": {
        "id": "vyLwqq4q0DeZ"
      },
      "execution_count": null,
      "outputs": []
    },
    {
      "cell_type": "code",
      "source": [
        "tf.keras.layers.Flatten()(x_train).shape"
      ],
      "metadata": {
        "id": "Nq_0vsiN0K4x"
      },
      "execution_count": null,
      "outputs": []
    },
    {
      "cell_type": "markdown",
      "source": [
        "활성화 함수;출력 함수"
      ],
      "metadata": {
        "id": "FEJgkTgJ0whR"
      }
    },
    {
      "cell_type": "code",
      "source": [
        "tf.keras.layers.Dense(128,activation='relu')"
      ],
      "metadata": {
        "id": "zmMtXEuJ0Pqi"
      },
      "execution_count": null,
      "outputs": []
    },
    {
      "cell_type": "code",
      "source": [
        "#출력층이 1인 경우 : sigmoid\n",
        "tf.keras.layers.Dense(1,activation='sigmoid')"
      ],
      "metadata": {
        "id": "r2jPFgb30ePJ"
      },
      "execution_count": null,
      "outputs": []
    },
    {
      "cell_type": "code",
      "source": [
        "#출력층이 2인 경우 : softmax\n",
        "tf.keras.layers.Dense(10,activation='softmax')"
      ],
      "metadata": {
        "id": "SIsMZKy808Ya"
      },
      "execution_count": null,
      "outputs": []
    },
    {
      "cell_type": "markdown",
      "source": [
        "손실함수"
      ],
      "metadata": {
        "id": "s_pFl_Ga1Ruh"
      }
    },
    {
      "cell_type": "code",
      "source": [
        "#출력노드가 1개, sigmoid 활성화 함수를 적용한 경우\n",
        "model.compile(loss='binary_crossentropy')"
      ],
      "metadata": {
        "id": "blCT98j91FvB"
      },
      "execution_count": null,
      "outputs": []
    },
    {
      "cell_type": "code",
      "source": [
        "#출력 노드가 2개 이상, softmax 활성화 함수를 적용한 경우\n",
        "#y 가 원 핫 벡터인 경우 [0,...,0,1,0,...0]\n",
        "model.compile(loss='categorical_crossentropy')"
      ],
      "metadata": {
        "id": "A7u8iqD61bGY"
      },
      "execution_count": null,
      "outputs": []
    },
    {
      "cell_type": "code",
      "source": [
        "#y가 원 핫 벡터가 아닌경우[5]\n",
        "model.compile(loss='sparse_categorical_crossentropy')"
      ],
      "metadata": {
        "id": "1ieGs0gz12vy"
      },
      "execution_count": null,
      "outputs": []
    },
    {
      "cell_type": "markdown",
      "source": [
        "옵티마이저; 손실을 낮추기 위해 신경망의 가중치와 학습률과 같은 신경망의 속성을 변경하는데 최적화 방법"
      ],
      "metadata": {
        "id": "UO1HiJ1R2TCK"
      }
    },
    {
      "cell_type": "code",
      "source": [
        "# 클래스 인스턴스로 지정\n",
        "adam = tf.keras.optimizers.Adam(lr=0.001)\n",
        "model.compile(optimizer=adam)\n",
        "\n",
        "#문자열로 지정\n",
        "model.compile(optimizer='adam')"
      ],
      "metadata": {
        "id": "WSclnGR61_uJ"
      },
      "execution_count": null,
      "outputs": []
    },
    {
      "cell_type": "markdown",
      "source": [
        "평가지표"
      ],
      "metadata": {
        "id": "J7lAj5ll2i8Z"
      }
    },
    {
      "cell_type": "code",
      "source": [
        "# 클래스 인스턴스로 지정\n",
        "acc=tf.keras.metrics.SparseCategoricalAccuracy()\n",
        "\n",
        "model.compile(optimizer='adam',)"
      ],
      "metadata": {
        "id": "0yu9IWk-2O8t"
      },
      "execution_count": null,
      "outputs": []
    },
    {
      "cell_type": "markdown",
      "source": [
        "예시"
      ],
      "metadata": {
        "id": "tdwjC9oB4RJy"
      }
    },
    {
      "cell_type": "code",
      "source": [
        "model= tf.keras.Sequential([tf.keras.layers.Flatten(input_shape=(28,28)),\n",
        "                            tf.keras.layers.Dense(256,activation='relu'),\n",
        "                            tf.keras.layers.Dense(64,activation='relu'),\n",
        "                            tf.keras.layers.Dense(32,activation='relu'),\n",
        "                            tf.keras.layers.Dense(10,activation='softmax'),])"
      ],
      "metadata": {
        "id": "5LzVXi-T20s4"
      },
      "execution_count": null,
      "outputs": []
    },
    {
      "cell_type": "code",
      "source": [
        "adam = tf.keras.optimizers.Adam(learning_rate=0.001)\n",
        "acc=tf.keras.metrics.SparseCategoricalAccuracy()\n",
        "model.compile(optimizer=adam,loss='sparse_categorical_crossentropy',metrics=[acc])"
      ],
      "metadata": {
        "id": "u4FB3iBK3hoI"
      },
      "execution_count": null,
      "outputs": []
    },
    {
      "cell_type": "markdown",
      "source": [
        "모델 훈련시 훈련 데이터 : x_train,y_train 검증 데이터 : validation_data=(x_test,y_test)"
      ],
      "metadata": {
        "id": "Ejms3iCZ4mDC"
      }
    },
    {
      "cell_type": "code",
      "source": [
        "model.fit(x_train,y_train,validation_data=(x_test,y_test),epochs=10)"
      ],
      "metadata": {
        "id": "bgo-To3n4Uy7"
      },
      "execution_count": null,
      "outputs": []
    },
    {
      "cell_type": "code",
      "source": [
        "#검증\n",
        "model.evaluate(x_test,y_test)"
      ],
      "metadata": {
        "id": "u4aNWdO35u9t"
      },
      "execution_count": null,
      "outputs": []
    },
    {
      "cell_type": "code",
      "source": [
        "#검증 결과 저장\n",
        "test_loss,test_acc =model.evaluate(x_test,y_test)\n",
        "\n",
        "print('검증셋 정확도 :', test_acc)"
      ],
      "metadata": {
        "id": "aJEc41xJ52hV"
      },
      "execution_count": null,
      "outputs": []
    },
    {
      "cell_type": "code",
      "source": [
        "predictions = model.predict(x_test)\n",
        "predictions[0]"
      ],
      "metadata": {
        "id": "CkmrTgKV6PUI"
      },
      "execution_count": null,
      "outputs": []
    },
    {
      "cell_type": "code",
      "source": [
        "predictions[0].max()"
      ],
      "metadata": {
        "id": "yy3k0Jmf6Wla"
      },
      "execution_count": null,
      "outputs": []
    },
    {
      "cell_type": "code",
      "source": [
        "np.argmax(predictions[0])"
      ],
      "metadata": {
        "id": "4GKt2zBr6Z7a"
      },
      "execution_count": null,
      "outputs": []
    },
    {
      "cell_type": "code",
      "source": [
        "predictions[0].min()\n"
      ],
      "metadata": {
        "id": "eCvAHyGD684K"
      },
      "execution_count": null,
      "outputs": []
    },
    {
      "cell_type": "code",
      "source": [
        "np.argmin(predictions[0])"
      ],
      "metadata": {
        "id": "GCKRhLuv7awR"
      },
      "execution_count": null,
      "outputs": []
    },
    {
      "cell_type": "code",
      "source": [
        "def get_one_result(idx):\n",
        "  img,y_true,y_pred,confidence=x_test[idx],y_test[idx],np.argmax(predictions[idx]),100*np.max(predictions[idx])\n",
        "  return img,y_true,y_pred,confidence"
      ],
      "metadata": {
        "id": "dcDfLSy17qo6"
      },
      "execution_count": null,
      "outputs": []
    },
    {
      "cell_type": "code",
      "source": [
        "fig,axes=plt.subplots(3,5)\n",
        "fig.set_size_inches(12,10)\n",
        "\n",
        "for i in range(15):\n",
        "  ax = axes[i//5,i%5]\n",
        "  img,y_true,y_pred,confidence=get_one_result(i)\n",
        "  ax.imshow(img,cmap='gray')\n",
        "  #x,y축 눈금,\n",
        "  ax.set_xticks([])\n",
        "  ax.set_yticks([])\n",
        "  ax.set_title(f'True : {y_true}',fontsize =12)\n",
        "  ax.set_xlabel(f'Prediction : {y_pred}\\nConfidence :( {confidence:.2f}%)',fontsize=8)\n",
        "plt.tight_layout()\n",
        "plt.show()"
      ],
      "metadata": {
        "id": "KB9_Tc0-7-cx"
      },
      "execution_count": null,
      "outputs": []
    }
  ]
}